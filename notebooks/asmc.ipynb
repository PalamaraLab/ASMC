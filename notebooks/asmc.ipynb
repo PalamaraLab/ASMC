{
 "cells": [
  {
   "cell_type": "markdown",
   "metadata": {},
   "source": [
    "# ASMC Python API\n",
    "\n",
    "This notebook demonstrates how to decode pairs using ASMC from Python."
   ]
  },
  {
   "cell_type": "code",
   "execution_count": null,
   "metadata": {},
   "outputs": [],
   "source": [
    "# Import all from ASMC\n",
    "from asmc.asmc import *\n",
    "\n",
    "import pathlib\n",
    "import numpy as np\n",
    "\n",
    "data_dir = pathlib.Path('.').resolve().parent / 'ASMC_data'"
   ]
  },
  {
   "cell_type": "code",
   "execution_count": null,
   "metadata": {},
   "outputs": [],
   "source": [
    "# Create the ASMC object, that requires (minimally) the input files root and the decoding quantities file\n",
    "\n",
    "input_files_root = str(data_dir / 'examples' / 'asmc' / 'exampleFile.n300.array')\n",
    "dq_file = str(data_dir / 'decoding_quantities' / '30-100-2000_CEU.decodingQuantities.gz')\n",
    "\n",
    "asmc = ASMC(input_files_root, dq_file)"
   ]
  },
  {
   "cell_type": "markdown",
   "metadata": {},
   "source": [
    "## Specify what outputs to calculate\n",
    "The outputs default to false to avoid unnecessary computation"
   ]
  },
  {
   "cell_type": "code",
   "execution_count": null,
   "metadata": {},
   "outputs": [],
   "source": [
    "# Per pair posterior mean, MAP and full posteriors, as well as the sum of posteriors can be stored in matrices\n",
    "asmc.set_store_per_pair_posterior_mean(True)\n",
    "asmc.set_store_per_pair_map(True)\n",
    "asmc.set_store_per_pair_posterior(True)\n",
    "asmc.set_store_sum_of_posterior(True)\n",
    "\n",
    "# Per pair posterior mean and MAP can be written to file. This is typically slow.\n",
    "asmc.set_write_per_pair_posterior_mean(False)\n",
    "asmc.set_write_per_pair_map(False)"
   ]
  },
  {
   "cell_type": "markdown",
   "metadata": {},
   "source": [
    "## You can specify lists of pairs to decode by their haploid index\n",
    "\n",
    "Haplotypes are encoded in the form `<id>_1` and `<id>_2`."
   ]
  },
  {
   "cell_type": "code",
   "execution_count": null,
   "metadata": {},
   "outputs": [],
   "source": [
    "a = [1, 2, 3]\n",
    "b = [4, 5, 6]\n",
    "\n",
    "a_str = [f\"1_{x}_1\" for x in range(1,149)]\n",
    "b_str = [f\"1_{x}_2\" for x in range(1,149)]\n",
    "\n",
    "asmc.decode_pairs(a, b)\n",
    "asmc.decode_pairs(a_str, b_str)\n",
    "# asmc.decode_pairs()  # <-- decode all pairs in the dataset by omitting a list of pairs"
   ]
  },
  {
   "cell_type": "markdown",
   "metadata": {},
   "source": [
    "## Get return values either by copy or reference\n",
    "\n",
    "If you plan to call `decode_pairs` multiple times you should get a copy of the results: they will be overwritten on subsequent calls to `decode_pairs`.\n",
    "\n",
    "However, if you are only decoding a single set of pairs, or if you are performing calculations batch-by-batch and do not require the results to be stored, it is safe to omit the copy and get a reference to the underlying data structure."
   ]
  },
  {
   "cell_type": "code",
   "execution_count": null,
   "metadata": {},
   "outputs": [],
   "source": [
    "return_vals = asmc.get_copy_of_results()\n",
    "# return_vals_ref = asmc.get_ref_of_results()  # <-- safe, if only calling decode_pairs a single time"
   ]
  },
  {
   "cell_type": "markdown",
   "metadata": {},
   "source": [
    "## Get various information from the return structure"
   ]
  },
  {
   "cell_type": "code",
   "execution_count": null,
   "metadata": {},
   "outputs": [],
   "source": [
    "return_vals.per_pair_indices"
   ]
  },
  {
   "cell_type": "code",
   "execution_count": null,
   "metadata": {},
   "outputs": [],
   "source": [
    "# The `per_pair_posteriors` option gives the largest amount of information: a list of 2D numpy arrays\n",
    "# The list has length numPairs, and each 2D array has size (numStates x numSites)\n",
    "\n",
    "return_vals.per_pair_posteriors"
   ]
  },
  {
   "cell_type": "code",
   "execution_count": null,
   "metadata": {},
   "outputs": [],
   "source": [
    "# The sum of posteriors is a single 2D numpy array of size (numStates x numSites)\n",
    "\n",
    "return_vals.sum_of_posteriors"
   ]
  },
  {
   "cell_type": "code",
   "execution_count": null,
   "metadata": {},
   "outputs": [],
   "source": [
    "# Turning on the per_pair_posteriors flag gives you the the following:\n",
    "\n",
    "# A 2D numpy array with posterior means, of size (numPairs x numSites)\n",
    "print(return_vals.per_pair_posterior_means)\n",
    "\n",
    "# Two 1D numpy arrays with the column-wise min and argmin of this array:\n",
    "print(return_vals.min_posterior_means)\n",
    "print(return_vals.argmin_posterior_means)"
   ]
  },
  {
   "cell_type": "code",
   "execution_count": null,
   "metadata": {},
   "outputs": [],
   "source": [
    "# Turning on the per_pair_MAPs flag gives you the the following:\n",
    "\n",
    "# A 2D numpy array with posterior MAPs, of size (numPairs x numSites)\n",
    "print(return_vals.per_pair_MAPs)\n",
    "\n",
    "# Two 1D numpy arrays with the column-wise min and argmin of this array:\n",
    "print(return_vals.min_MAPs)\n",
    "print(return_vals.argmin_MAPs)"
   ]
  }
 ],
 "metadata": {
  "kernelspec": {
   "display_name": "Python 3 (ipykernel)",
   "language": "python",
   "name": "python3"
  },
  "language_info": {
   "codemirror_mode": {
    "name": "ipython",
    "version": 3
   },
   "file_extension": ".py",
   "mimetype": "text/x-python",
   "name": "python",
   "nbconvert_exporter": "python",
   "pygments_lexer": "ipython3",
   "version": "3.8.10"
  }
 },
 "nbformat": 4,
 "nbformat_minor": 4
}
