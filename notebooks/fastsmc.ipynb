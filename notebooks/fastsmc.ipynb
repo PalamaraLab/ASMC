{
 "cells": [
  {
   "cell_type": "markdown",
   "metadata": {},
   "source": [
    "# FastSMC example notebook\n",
    "\n",
    "This notebook demonstrates how to use the FastSMC python bindings, with optional configuration of parameters.\n",
    "\n",
    "Please make sure you have installed the python bindings by following the instructions in `../README.md` before attempting to run this notebook.\n",
    "\n",
    "The example dataset was simulated using the setup described in the paper, corresponding to SNP data for 150 diploid individuals and a chromosomal region of 30 Mb, with recombination rate from chromosome 2 and under a European demographic model (see https://www.biorxiv.org/content/10.1101/2020.04.20.029819v1 for more details)."
   ]
  },
  {
   "cell_type": "markdown",
   "metadata": {},
   "source": [
    "1) Import `asmc` which is installed with the Python bindings"
   ]
  },
  {
   "cell_type": "code",
   "execution_count": null,
   "metadata": {},
   "outputs": [],
   "source": [
    "from asmc.asmc import *\n",
    "\n",
    "import pathlib\n",
    "import tempfile\n",
    "\n",
    "data_dir = pathlib.Path('.').resolve().parent / 'ASMC_data'"
   ]
  },
  {
   "cell_type": "markdown",
   "metadata": {},
   "source": [
    "2) Specify paths for input (example provided with this repository) and output"
   ]
  },
  {
   "cell_type": "code",
   "execution_count": null,
   "metadata": {},
   "outputs": [],
   "source": [
    "input_files_root = str(data_dir / 'examples' / 'fastsmc' / 'example')\n",
    "dq_file = str(data_dir / 'decoding_quantities' / '30-100-2000_CEU.decodingQuantities.gz')\n",
    "output_files_root = tempfile.TemporaryDirectory().name"
   ]
  },
  {
   "cell_type": "markdown",
   "metadata": {},
   "source": [
    "3) Set the required parameters by creating a DecodingParams object. When creating parameters in this manner, you should run `validateParamsFastSMC()` to ensure you have not selected incompatible options. In this notebook, data is saved in a binary format (`params.BIN_OUT = True`). This is more space efficient and should be used for a large analysis."
   ]
  },
  {
   "cell_type": "code",
   "execution_count": null,
   "metadata": {},
   "outputs": [],
   "source": [
    "params = DecodingParams()\n",
    "params.decodingQuantFile = dq_file\n",
    "params.inFileRoot = input_files_root\n",
    "params.outFileRoot = output_files_root\n",
    "params.decodingModeString = 'array'\n",
    "params.usingCSFS = True\n",
    "params.batchSize = 32\n",
    "params.recallThreshold = 3\n",
    "params.min_m = 1.5\n",
    "params.hashing = True\n",
    "params.FastSMC = True\n",
    "params.BIN_OUT = True\n",
    "params.outputIbdSegmentLength = True\n",
    "params.time = 50\n",
    "params.noConditionalAgeEstimates = True\n",
    "params.doPerPairMAP = True\n",
    "params.doPerPairPosteriorMean = True\n",
    "\n",
    "assert params.validateParamsFastSMC()"
   ]
  },
  {
   "cell_type": "markdown",
   "metadata": {},
   "source": [
    "4) Create the Python FastSMC object and run it. This should only take a few seconds."
   ]
  },
  {
   "cell_type": "code",
   "execution_count": null,
   "metadata": {},
   "outputs": [],
   "source": [
    "fast_smc = FastSMC(params)\n",
    "fast_smc.run()"
   ]
  },
  {
   "cell_type": "markdown",
   "metadata": {},
   "source": [
    "5) Read data from the binary file using the `BinaryDataReader` class. Because the data file is assumed to be very large, reading the file should be done line-by-line as the file will not necessarily fit in memory. We then filter to remove IBD segments with low IBD score, and bin values for the histograms we want to plot. Note that we demonstrate here how to read the output line-by-line as for a large analysis the data may not all fit in memory."
   ]
  },
  {
   "cell_type": "code",
   "execution_count": null,
   "metadata": {},
   "outputs": [],
   "source": [
    "%config InlineBackend.figure_formats = ['svg']\n",
    "\n",
    "import gzip\n",
    "import math\n",
    "import numpy as np\n",
    "import matplotlib.pyplot as plt\n",
    "\n",
    "vals_MAP = np.linspace(0, 100, num=10)\n",
    "bins_MAP = np.zeros((10,), dtype=int)\n",
    "\n",
    "vals_segLen = np.linspace(0., 15., num=10)\n",
    "bins_segLen = np.zeros((10,), dtype=int)\n",
    "\n",
    "binary_data_reader = BinaryDataReader(output_files_root + '.1.1.FastSMC.bibd.gz')\n",
    "\n",
    "while binary_data_reader.moreLinesInFile():\n",
    "    line = binary_data_reader.getNextLine()\n",
    "    \n",
    "    if line.ibdScore > 0.1:\n",
    "        \n",
    "        if line.mapEst < 100.:\n",
    "            bins_MAP[math.floor((line.mapEst / 10.))] += 1\n",
    "\n",
    "        if line.lengthInCentimorgans < 15.:\n",
    "            bins_segLen[math.floor(line.lengthInCentimorgans / 1.5)] += 1"
   ]
  },
  {
   "cell_type": "markdown",
   "metadata": {
    "pycharm": {
     "name": "#%% md\n"
    }
   },
   "source": [
    "6) Visualise data: here we simply plot the pre-binned data for MAP age estimates and for IBD segment length"
   ]
  },
  {
   "cell_type": "code",
   "execution_count": null,
   "metadata": {
    "pycharm": {
     "name": "#%%\n"
    },
    "scrolled": false
   },
   "outputs": [],
   "source": [
    "plt.xlabel(\"MAP age estimate (in generations)\")\n",
    "plt.hist(vals_MAP, weights=bins_MAP)\n",
    "plt.gca().set_yscale('linear')\n",
    "plt.grid(b=True, which='major', axis='both')"
   ]
  },
  {
   "cell_type": "code",
   "execution_count": null,
   "metadata": {
    "pycharm": {
     "name": "#%%\n"
    }
   },
   "outputs": [],
   "source": [
    "plt.xlabel(\"IBD segments length (in cM)\")\n",
    "plt.hist(vals_segLen, weights=bins_segLen)\n",
    "plt.gca().set_yscale('log')\n",
    "plt.grid(b=True, which='major', axis='both')"
   ]
  }
 ],
 "metadata": {
  "kernelspec": {
   "display_name": "Python 3 (ipykernel)",
   "language": "python",
   "name": "python3"
  },
  "language_info": {
   "codemirror_mode": {
    "name": "ipython",
    "version": 3
   },
   "file_extension": ".py",
   "mimetype": "text/x-python",
   "name": "python",
   "nbconvert_exporter": "python",
   "pygments_lexer": "ipython3",
   "version": "3.8.10"
  }
 },
 "nbformat": 4,
 "nbformat_minor": 4
}
