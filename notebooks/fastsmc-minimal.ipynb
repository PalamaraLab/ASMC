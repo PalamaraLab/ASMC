{
 "cells": [
  {
   "cell_type": "markdown",
   "metadata": {},
   "source": [
    "# FastSMC minimal working example notebook\n",
    "\n",
    "This notebook demonstrates a minimal working example of the FastSMC python bindings, where sensible default parameters are set automatically.\n",
    "\n",
    "Please make sure you have installed the python bindings by following the instructions in `../README.md` before attempting to run this notebook.\n",
    "\n",
    "The example dataset was simulated using the setup described in the paper, corresponding to SNP data for 150 diploid individuals and a chromosomal region of 30 Mb, with recombination rate from chromosome 2 and under a European demographic model (see https://www.nature.com/articles/s41467-020-19588-x for more details)."
   ]
  },
  {
   "cell_type": "markdown",
   "metadata": {},
   "source": [
    "1) Import `asmc` which is installed with the Python bindings"
   ]
  },
  {
   "cell_type": "code",
   "execution_count": null,
   "metadata": {},
   "outputs": [],
   "source": [
    "from asmc.asmc import *\n",
    "\n",
    "import pathlib\n",
    "import tempfile\n",
    "\n",
    "data_dir = pathlib.Path('.').resolve().parent / 'ASMC_data'"
   ]
  },
  {
   "cell_type": "markdown",
   "metadata": {},
   "source": [
    "2) Specify paths for input (example provided in a submodule of this repository) and output. Input is expected to have the following files (note: make sure the map file is in the right format, as described in https://github.com/PalamaraLab/ASMC/blob/main/docs/fastsmc.md#input-file-formats):\n",
    "- `<input_files_root>.hap.gz`\n",
    "- `<input_files_root>.map`\n",
    "- `<input_files_root>.samples`"
   ]
  },
  {
   "cell_type": "code",
   "execution_count": null,
   "metadata": {},
   "outputs": [],
   "source": [
    "input_files_root = str(data_dir / 'examples' / 'fastsmc' / 'example')\n",
    "dq_file = str(data_dir / 'decoding_quantities' / '30-100-2000_CEU.decodingQuantities.gz')\n",
    "output_files_root = tempfile.TemporaryDirectory().name"
   ]
  },
  {
   "cell_type": "markdown",
   "metadata": {},
   "source": [
    "3) Create the Python FastSMC object and run it. This should only take a few seconds."
   ]
  },
  {
   "cell_type": "code",
   "execution_count": null,
   "metadata": {},
   "outputs": [],
   "source": [
    "fast_smc = FastSMC(in_dir=input_files_root, dq_file=dq_file, out_dir=output_files_root)\n",
    "fast_smc.run()"
   ]
  },
  {
   "cell_type": "markdown",
   "metadata": {},
   "source": [
    "4) Read data, add column names and filter to remove IBD segments with low IBD score. Note that for a large analysis, loading all data into memory is unlikely to be possible. See fastsmc.ipynb for an example that reads the output line-by-line."
   ]
  },
  {
   "cell_type": "code",
   "execution_count": null,
   "metadata": {},
   "outputs": [],
   "source": [
    "%config InlineBackend.figure_formats = ['svg']\n",
    "\n",
    "import numpy as np\n",
    "import pandas as pd\n",
    "import matplotlib.pyplot as plt\n",
    "\n",
    "data = pd.read_csv(output_files_root + '.1.1.FastSMC.ibd.gz', sep='\\t', header=None)\n",
    "\n",
    "data.columns = ['ind1_famid', 'ind1_id', 'ind1_hap', 'ind2_famid', 'ind2_id', 'ind2_hap', 'chromosome',\n",
    "                'ibd_start', 'ibd_end', 'length_in_cM', 'ibd_score', 'post_est', 'map_est']\n",
    "\n",
    "filtered = data[data['ibd_score'] > 0.1]\n",
    "filtered"
   ]
  },
  {
   "cell_type": "markdown",
   "metadata": {
    "pycharm": {
     "name": "#%% md\n"
    }
   },
   "source": [
    "5) Visualise data: here we simply bin the MAP age estimates and the IBD segment length"
   ]
  },
  {
   "cell_type": "code",
   "execution_count": null,
   "metadata": {},
   "outputs": [],
   "source": [
    "plt.xlabel(\"MAP age estimate (in generations)\")\n",
    "filtered['map_est'].hist(range=(0, 100))\n",
    "plt.gca().set_yscale('linear')"
   ]
  },
  {
   "cell_type": "code",
   "execution_count": null,
   "metadata": {
    "pycharm": {
     "name": "#%%\n"
    }
   },
   "outputs": [],
   "source": [
    "plt.xlabel(\"IBD segments length (in cM)\")\n",
    "filtered['length_in_cM'].hist(range=(0, 15))\n",
    "plt.gca().set_yscale('log')"
   ]
  }
 ],
 "metadata": {
  "kernelspec": {
   "display_name": "Python 3 (ipykernel)",
   "language": "python",
   "name": "python3"
  },
  "language_info": {
   "codemirror_mode": {
    "name": "ipython",
    "version": 3
   },
   "file_extension": ".py",
   "mimetype": "text/x-python",
   "name": "python",
   "nbconvert_exporter": "python",
   "pygments_lexer": "ipython3",
   "version": "3.11.11"
  }
 },
 "nbformat": 4,
 "nbformat_minor": 4
}
