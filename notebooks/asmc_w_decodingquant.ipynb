{
 "cells": [
  {
   "cell_type": "markdown",
   "id": "c6fedd42-bd6a-43fc-a09b-1e3746f2834d",
   "metadata": {},
   "source": [
    "# Running ASMC with ground-truth data\n",
    "\n",
    "Below we simulate and evaluate the ability of ASMC to decode TMRCA from a ground-truth simulation. "
   ]
  },
  {
   "cell_type": "code",
   "execution_count": 1,
   "id": "1732b87f-769e-4d08-afc0-c523f55dce7c",
   "metadata": {},
   "outputs": [
    {
     "name": "stdout",
     "output_type": "stream",
     "text": [
      "numpy version: 1.21.2\n",
      "msprime version: 1.0.2\n",
      "pandas version: 1.3.3\n",
      "tszip version: 0.1.0\n",
      "\n"
     ]
    }
   ],
   "source": [
    "import numpy as np \n",
    "import matplotlib.pyplot as plt\n",
    "import pandas as pd\n",
    "import msprime as msp\n",
    "import tszip\n",
    "import pathlib\n",
    "from asmc.asmc import *\n",
    "from asmc.preparedecoding import *\n",
    "\n",
    "import os, sys\n",
    "\n",
    "import matplotlib.pyplot as plt\n",
    "import matplotlib.gridspec as gridspec\n",
    "\n",
    "%matplotlib inline\n",
    "\n",
    "print(\"numpy version: {}\".format(np.__version__)) \n",
    "print(\"msprime version: {}\".format(msp.__version__)) \n",
    "print(\"pandas version: {}\".format(pd.__version__)) \n",
    "print(\"tszip version: {}\\n\".format(tszip.__version__))"
   ]
  },
  {
   "cell_type": "markdown",
   "id": "a6e628e8-e122-440a-afa7-b3f1f7f2f7e5",
   "metadata": {},
   "source": [
    "# Utility / Plotting Functions \n",
    "\n",
    "Here we've defined the following functions:\n",
    "* `sim_pop_demography`: a function to construct a Demography object in `msprime` from a pre-existing ASMC demography file\n",
    "* `get_true_tmrca`: obtain the true tmrca per-locus between two haplotype IDs from a \n",
    "* `tmrca_rmse`: RMSE between two vectors of per-locus TMRCA estimates\n",
    "* `plot_asmc_single_pair`: plot pairwise TMRCA as a step-wise plot and the ratio of per-locus TMRCA estimates in two subplots"
   ]
  },
  {
   "cell_type": "code",
   "execution_count": 2,
   "id": "779e2536-080a-49a3-b58b-a7c753aec14a",
   "metadata": {
    "jupyter": {
     "source_hidden": true
    },
    "tags": []
   },
   "outputs": [],
   "source": [
    "def sim_pop_demography(demo_file):\n",
    "    \"\"\" Simulate a single population. \n",
    "        input:\n",
    "            demo_file - two column file ([Generations,NE]) NOTE: assumed diploid\n",
    "        output: \n",
    "            demography: msp.Demography object\n",
    "    \"\"\"\n",
    "    df = pd.read_table(demo_file, header=None)\n",
    "    df.columns  = ['GEN', 'NE']\n",
    "    demography = msp.Demography()\n",
    "    demography.add_population(name=\"A\", initial_size=1e4)\n",
    "    for t,n in zip(df.GEN.values, df.NE.values):\n",
    "        # NOTE: we have to divide because msprime expects a diploid demography for working with VCFs\n",
    "        demography.add_population_parameters_change(t, initial_size=n/2, population=\"A\")\n",
    "    return(demography)"
   ]
  },
  {
   "cell_type": "code",
   "execution_count": 3,
   "id": "44bfc843-35c9-4ba2-91a2-ea1fc44aff24",
   "metadata": {
    "jupyter": {
     "source_hidden": true
    },
    "tags": []
   },
   "outputs": [],
   "source": [
    "def get_true_tmrca(ts, id1, id2, snp_locations=None):\n",
    "    \"\"\" Obtain the true tmrcas between id1 and id2 samples \n",
    "        Arguments:\n",
    "         - ts : tskit Tree-Sequence object\n",
    "         - id1: int specifying haplotype 1\n",
    "         - id2: int specifying haplotype 2\n",
    "         - snp_locations: np.array of snp_locations to test against (default: None)\n",
    "    \"\"\"\n",
    "    if snp_locations is None:\n",
    "        snp_locations = np.array([s.position for s in ts.sites()])\n",
    "        assert snp_locations.size > 0\n",
    "    test_windows = [0.]\n",
    "    for i in snp_locations:\n",
    "        test_windows.append(i-0.1)\n",
    "        test_windows.append(i)\n",
    "    test_windows.append(ts.sequence_length)\n",
    "    true_tmrcas = ts.diversity([id1,id2], \n",
    "                               mode='branch',\n",
    "                               windows=test_windows,\n",
    "                               span_normalise=True)[1::2] / 2\n",
    "    assert snp_locations.size == true_tmrcas.size\n",
    "    return(true_tmrcas, snp_locations)\n",
    "\n",
    "def tmrca_rmse(ts1,ts2):\n",
    "    \"\"\" RMSE between two estimates of tmrca (ts1, ts2).\"\"\"\n",
    "    assert ts1.size == ts2.size\n",
    "    assert ts1.ndim == ts2.ndim\n",
    "    assert ts1.ndim == 1\n",
    "    rmse = np.sqrt(np.nanmean((ts1 - ts2)**2))\n",
    "    return(rmse)"
   ]
  },
  {
   "cell_type": "code",
   "execution_count": 4,
   "id": "b82a87dc-6d9e-415e-93a6-5dc1e8df3b13",
   "metadata": {
    "jupyter": {
     "source_hidden": true
    },
    "tags": []
   },
   "outputs": [],
   "source": [
    "def plot_yx(ax, **kwargs):\n",
    "    \"\"\"Plot the y=x line in a matplotlib axis.\"\"\"\n",
    "    lims = [\n",
    "        np.min([ax.get_xlim(), ax.get_ylim()]),  # min of both axes\n",
    "        np.max([ax.get_xlim(), ax.get_ylim()]),  # max of both axes\n",
    "    ]\n",
    "    # now plot both limits against each other\n",
    "    ax.plot(lims, lims, **kwargs)\n",
    "\n",
    "\n",
    "def debox(ax):\n",
    "    \"\"\"Remove the top and right spines of a plot.\"\"\"\n",
    "    ax.spines[\"right\"].set_visible(False)\n",
    "    ax.spines[\"top\"].set_visible(False)\n",
    "    \n",
    "def plot_asmc_single_pair(fig, phys_bp, true_tmrcas, est_tmrcas, labels):\n",
    "    \"\"\" Generate a plot of the undrelying tmrcas and the estimated tmrcas\n",
    "        NOTE: also generates a scatter plot of true vs estimated tmrcas\n",
    "        \n",
    "        Arguments:\n",
    "        ----------\n",
    "        - fig: matplotlib.figure for generating the figure.\n",
    "        - phys_bp: numpy array of positions.\n",
    "        - true_tmrca: numpy array of true tmrca values.\n",
    "        - est_tmrcas: list of estimated tmrcas (list of numpy arrays).\n",
    "        - labels: list of labels for each tract of posterior tmrcas\n",
    "    \"\"\"\n",
    "    assert phys_bp.size == true_tmrca.size\n",
    "    for x in est_tmrcas:\n",
    "        assert phys_bp.size == x.size\n",
    "    assert len(labels) == len(est_tmrcas)\n",
    "    assert len(est_tmrcas) > 0\n",
    "    gs = fig.add_gridspec(1, 3)\n",
    "    ax0 = fig.add_subplot(gs[0, :2])\n",
    "    ax1 = fig.add_subplot(gs[0, 2])\n",
    "    # Plot a version of this here ... \n",
    "    ax0.step(phys_bp, true_tmrca, label=r'True TMRCA')\n",
    "    for lbl, est_t in zip(labels, est_tmrcas):\n",
    "        ax0.step(phys_bp, est_t, label=lbl)\n",
    "    ax0.set_yscale('log')\n",
    "    ax0.set_ylabel(r'$T_{MRCA}$')\n",
    "    ax0.set_xlabel('Position (bp)')\n",
    "    \n",
    "    ax0.legend(fontsize=10)\n",
    "    ax1.scatter(true_tmrca, est_tmrcas[0], \n",
    "                s=10, alpha=0.1, \n",
    "                label=r'$\\frac{T}{\\hat{T}}=%0.2f$' % np.nanmedian(true_tmrca/est_tmrcas[0]))\n",
    "    ax1.set_aspect('equal', adjustable='box')\n",
    "    ax1.legend()\n",
    "    ax1.set_xlabel(r'True $T_{MRCA}$')\n",
    "    ax1.set_ylabel(r'Posterior Mean $T_{MRCA}$')\n",
    "    plot_yx(ax1, color='r', linestyle='--')\n",
    "    debox(ax1); debox(ax0);\n",
    "    return(fig, [ax0,ax1])"
   ]
  },
  {
   "cell_type": "markdown",
   "id": "c739138e-afde-4566-bc38-7ce86c3294e6",
   "metadata": {},
   "source": [
    "# Simulating Ground-Truth Data\n",
    "\n",
    "Our goal here is to simulate ground-truth data in `msprime` based on the established ASMC demography. "
   ]
  },
  {
   "cell_type": "code",
   "execution_count": 5,
   "id": "f31cf4c9-5524-49cd-af8a-cbf79a07be3e",
   "metadata": {},
   "outputs": [],
   "source": [
    "## Parameter Settings\n",
    "\n",
    "data_dir = pathlib.Path('.').resolve().parent / 'ASMC_data'\n",
    "\n",
    "outfix = 'test' # this is the outfix for all of our datasets that are output\n",
    "demo_file = str(data_dir / 'demographies' / 'CEU.demo') # Simulate under the CEU demography for now ...  \n",
    "\n",
    "demography = sim_pop_demography(demo_file) # Generate a demography using a constant size ... \n",
    "\n",
    "# Simulate 150 diploid samples \n",
    "ts = msp.sim_ancestry(samples={\"A\": 300}, \n",
    "                      demography=demography, \n",
    "                      sequence_length=10e6, \n",
    "                      recombination_rate=1e-8, \n",
    "                      ploidy=2, #this is very important as msprime is diploid by default!\n",
    "                      random_seed=42)\n",
    "\n",
    "mts = msp.sim_mutations(ts, \n",
    "                        rate=1e-8, \n",
    "                        random_seed=42, \n",
    "                        model=msp.BinaryMutationModel())\n",
    "\n",
    "# Save the tree-sequence as a zipped file for now \n",
    "tszip.compress(mts, f\"{outfix}.ts.tsz\")"
   ]
  },
  {
   "cell_type": "markdown",
   "id": "84a72c9d-594a-4a7b-ae43-ae4f2a0d644c",
   "metadata": {},
   "source": [
    "The following shell commands leverage the popular `bcftools` utility to convert to a `haps.gz` and `map.gz` fileset for inference under ASMC:"
   ]
  },
  {
   "cell_type": "code",
   "execution_count": 6,
   "id": "d4658b99-a968-4910-b954-bfb69b15ce58",
   "metadata": {},
   "outputs": [
    {
     "name": "stderr",
     "output_type": "stream",
     "text": [
      "Hap file: test.seq.hap.gz\n",
      "Sample file: test.seq.samples\n",
      "38124 records written, 0 skipped: 0/0/0 no-ALT/non-biallelic/filtered\n"
     ]
    }
   ],
   "source": [
    "# Convert our zipped tree-sequence to a haps.gz file with our outfix  \n",
    "os.system(\"tszip -d -k --force {}.ts.tsz\".format(outfix))\n",
    "os.system(\"tskit vcf {}.ts | bcftools view -v snps -m2 -M2 | \\\n",
    "    bcftools +fill-tags | bgzip -@8 > {}.vcf.gz\".format(outfix, outfix))\n",
    "os.system(\"echo -e \\\"CHR\\tSNP\\tA1\\tA2\\tMAF\\tNCHROBS\\\" > {}.seq.frq; \\\n",
    "    bcftools query -f \\\"%CHROM\\t%ID\\t%REF\\t%ALT\\t%MAF\\t%AN\\n\\\" {}.vcf.gz >> {}.seq.frq\".format(outfix,outfix, outfix))\n",
    "os.system(\"tabix -f {}.vcf.gz\".format(outfix))\n",
    "os.system(\"bcftools query -f \\'%CHROM\\t%ID\\t%POS\\n\\' \\\n",
    "    {}.vcf.gz  | awk \\'{{OFS=\\\"\\t\\\"; print $1,$2,(2E-8 * $3 *100),$3}}\\' | bgzip -@4 > {}.seq.map.gz\".format(outfix, outfix))\n",
    "os.system(\"bcftools convert --hapsample {}.seq.hap.gz,{}.seq.samples {}.vcf.gz\".format(outfix, outfix, outfix));"
   ]
  },
  {
   "cell_type": "markdown",
   "id": "2c03d6e7-3954-40c3-9298-38cb5168816c",
   "metadata": {},
   "source": [
    "The next block indicates how we can construct and save decoding quantities that are specific to our simulation:"
   ]
  },
  {
   "cell_type": "code",
   "execution_count": 7,
   "id": "70c91594-9df4-4916-a973-368bd481070e",
   "metadata": {},
   "outputs": [
    {
     "name": "stdout",
     "output_type": "stream",
     "text": [
      "Demography set to file /Users/aabiddanda/Repos/ASMC_dev/ASMC_data/demographies/CEU.demo\n",
      "Frequencies file set to test.seq.frq\n",
      "New CSFS will be calculated\n",
      "Using the following pre-specified discretization intervals: {0, 30, 60, 90, 120, 150, 180, 210, 240, 270, 300, 330, 360, 390, 420, 450, 550, 650, 750, 850, 950, 1050, 1150, 1250, 1350, 1450, 1550, 1650, 1750, 1850, 1950}\n",
      " and calculating 39 additional intervals from coalescent distribution.\n",
      "smcpp: init_cache() successful\n",
      "Will use minor allele frequencies from test.seq.frq ...\n",
      "Will use mutation rate mu = 1e-08.\n",
      "Number of samples in CSFS calculations: 150.\n",
      "Verified 70 CSFS entries.\n",
      "Probability of a site being monomorphic due to subsampling: 0.377748772395583\n",
      "\n",
      "Building decoding quantities...\n",
      "CPU times: user 51.9 s, sys: 418 ms, total: 52.3 s\n",
      "Genetic distances progress: 100%\t\n",
      "Wall time: 19 sces progress: 100%\t\n"
     ]
    }
   ],
   "source": [
    "%%time\n",
    "## Generating the decoding quantities just for this simulation (based on the sequencing data)\n",
    "dq = prepare_decoding(\n",
    "    demography=demo_file,\n",
    "    discretization=[[30.0, 15], [100.0, 15], 39], # 15 blocks of 30 generations, 15 blocks of 100 generations, 39 quantiles...\n",
    "    frequencies=f\"{outfix}.seq.frq\",\n",
    "    samples=150,\n",
    "    mutation_rate=1e-8)\n",
    "dq.save_decoding_quantities(f\"{outfix}\")"
   ]
  },
  {
   "cell_type": "code",
   "execution_count": 8,
   "id": "d1b2b730-2960-4c07-8cbf-018e3849b716",
   "metadata": {},
   "outputs": [
    {
     "name": "stdout",
     "output_type": "stream",
     "text": [
      "\n",
      "Read 300 samples.\n",
      "Read data for 600 haploid samples and 38124 markers, 12 of which are monomorphic. This job will focus on 600 haploid samples.\n",
      "Using precomputed decoding info from test.decodingQuantities.gz\n"
     ]
    },
    {
     "data": {
      "image/png": "[encoded data removed]",
      "text/plain": [
       "<Figure size 576x288 with 2 Axes>"
      ]
     },
     "metadata": {
      "needs_background": "light"
     },
     "output_type": "display_data"
    }
   ],
   "source": [
    "id1, id2 = 0,1\n",
    "\n",
    "asmc_seq = ASMC(f\"{outfix}.seq\", f\"{outfix}.decodingQuantities.gz\", decoding_mode=\"sequence\")\n",
    "asmc_seq.set_store_per_pair_posterior_mean(True)\n",
    "asmc_seq.set_store_per_pair_map(True)\n",
    "# We'll just decode for a single pair?\n",
    "asmc_seq.decode_pairs([id1],[id2])\n",
    "return_seq = asmc_seq.get_copy_of_results()\n",
    "\n",
    "# Plotting Results... \n",
    "fig = plt.figure(constrained_layout=True, figsize=(8,4))\n",
    "true_tmrca, phys_bp = get_true_tmrca(mts, id1=id1, id2=id2)\n",
    "posterior_mean_tmrca_seq = return_seq.per_pair_posterior_means[0]\n",
    "_, [ax0, ax1] = plot_asmc_single_pair(fig, phys_bp, true_tmrca, \n",
    "                                      [posterior_mean_tmrca_seq], \n",
    "                                      ['Posterior Mean (Sequence-mode)'])\n",
    "# Only show a limited view of the posterior decoding \n",
    "ax0.set_xlim(2e6, 2.5e6);\n",
    "ax1.set_yscale('log'); ax1.set_xscale('log');"
   ]
  }
 ],
 "metadata": {
  "kernelspec": {
   "display_name": "Python 3 (ipykernel)",
   "language": "python",
   "name": "python3"
  },
  "language_info": {
   "codemirror_mode": {
    "name": "ipython",
    "version": 3
   },
   "file_extension": ".py",
   "mimetype": "text/x-python",
   "name": "python",
   "nbconvert_exporter": "python",
   "pygments_lexer": "ipython3",
   "version": "3.9.1"
  }
 },
 "nbformat": 4,
 "nbformat_minor": 5
}
